{
 "cells": [
  {
   "cell_type": "markdown",
   "id": "c930d541-4850-40d7-9a3e-38b2152c082b",
   "metadata": {},
   "source": [
    "**Последовательность Фибоначчи**"
   ]
  },
  {
   "cell_type": "code",
   "execution_count": 7,
   "id": "0409f39a-3328-47a2-a761-4d92689f0f8b",
   "metadata": {},
   "outputs": [],
   "source": [
    "def fibonacci(sequence_lenght):\n",
    "    sequence = [0,1]\n",
    "    if sequence_lenght <1:\n",
    "        print(\"Последовательность Фибоначчи не может иметь длину, меньшую 1\")\n",
    "        return\n",
    "    if 0<sequence_lenght<3:\n",
    "        return sequence[0:sequence_lenght]\n",
    "    for i in range(2,sequence_lenght):\n",
    "        sequence.append(sequence[i-1]+sequence[i-2])\n",
    "    return sequence"
   ]
  },
  {
   "cell_type": "code",
   "execution_count": 3,
   "id": "0d426a35-87be-416a-bd1a-a7506d56d6c8",
   "metadata": {},
   "outputs": [
    {
     "data": {
      "text/plain": [
       "[0, 1, 1, 2, 3, 5, 8, 13, 21, 34, 55, 89]"
      ]
     },
     "execution_count": 3,
     "metadata": {},
     "output_type": "execute_result"
    }
   ],
   "source": [
    "fibonacci(12)"
   ]
  },
  {
   "cell_type": "code",
   "execution_count": 4,
   "id": "15ec5ff9-fa2e-4aa5-bd71-1d5c5cd047ab",
   "metadata": {},
   "outputs": [
    {
     "data": {
      "text/plain": [
       "[0, 1]"
      ]
     },
     "execution_count": 4,
     "metadata": {},
     "output_type": "execute_result"
    }
   ],
   "source": [
    "fibonacci(2)"
   ]
  },
  {
   "cell_type": "code",
   "execution_count": 8,
   "id": "b185c9c3-691a-4065-9e7b-150450557699",
   "metadata": {},
   "outputs": [
    {
     "name": "stdout",
     "output_type": "stream",
     "text": [
      "Последовательность Фибоначчи не может иметь длину, меньшую 1\n"
     ]
    }
   ],
   "source": [
    "fibonacci(0)"
   ]
  },
  {
   "cell_type": "code",
   "execution_count": null,
   "id": "da86dac4-bc77-40b6-aa98-461e804bb8e9",
   "metadata": {},
   "outputs": [],
   "source": []
  }
 ],
 "metadata": {
  "kernelspec": {
   "display_name": "Python 3 (ipykernel)",
   "language": "python",
   "name": "python3"
  },
  "language_info": {
   "codemirror_mode": {
    "name": "ipython",
    "version": 3
   },
   "file_extension": ".py",
   "mimetype": "text/x-python",
   "name": "python",
   "nbconvert_exporter": "python",
   "pygments_lexer": "ipython3",
   "version": "3.12.7"
  }
 },
 "nbformat": 4,
 "nbformat_minor": 5
}
