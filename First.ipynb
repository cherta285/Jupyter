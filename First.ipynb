{
 "cells": [
  {
   "cell_type": "markdown",
   "id": "1be65eae-17fa-4da9-9ffe-f5bcdf044507",
   "metadata": {},
   "source": [
    "**Мой первый файл Jupyter Notebook**"
   ]
  },
  {
   "cell_type": "code",
   "execution_count": 3,
   "id": "2cdbe627-6516-415a-b6e7-8266dd752751",
   "metadata": {},
   "outputs": [
    {
     "name": "stdout",
     "output_type": "stream",
     "text": [
      "Hello World\n"
     ]
    }
   ],
   "source": [
    "print('Hello World')"
   ]
  },
  {
   "cell_type": "code",
   "execution_count": 4,
   "id": "055770c3-bbc4-4862-9398-6674a7c859c0",
   "metadata": {},
   "outputs": [
    {
     "data": {
      "text/plain": [
       "4"
      ]
     },
     "execution_count": 4,
     "metadata": {},
     "output_type": "execute_result"
    }
   ],
   "source": [
    "2+2"
   ]
  },
  {
   "cell_type": "code",
   "execution_count": 5,
   "id": "382df3e7-e864-427d-9aa0-8dd5a89c750b",
   "metadata": {},
   "outputs": [
    {
     "name": "stdout",
     "output_type": "stream",
     "text": [
      "a меньше b\n"
     ]
    }
   ],
   "source": [
    "a=4\n",
    "b=9\n",
    "if a==b:\n",
    "    print(\"Переменные равны\")\n",
    "elif a>b:\n",
    "    print(\"a больше b\")\n",
    "elif a<b:\n",
    "    print(\"a меньше b\")\n",
    "else:\n",
    "    print(\"Не должно быть напечатано\")"
   ]
  },
  {
   "cell_type": "code",
   "execution_count": null,
   "id": "718689f7-18b0-4157-97d7-01e207845d35",
   "metadata": {},
   "outputs": [],
   "source": []
  }
 ],
 "metadata": {
  "kernelspec": {
   "display_name": "Python 3 (ipykernel)",
   "language": "python",
   "name": "python3"
  },
  "language_info": {
   "codemirror_mode": {
    "name": "ipython",
    "version": 3
   },
   "file_extension": ".py",
   "mimetype": "text/x-python",
   "name": "python",
   "nbconvert_exporter": "python",
   "pygments_lexer": "ipython3",
   "version": "3.12.7"
  }
 },
 "nbformat": 4,
 "nbformat_minor": 5
}
